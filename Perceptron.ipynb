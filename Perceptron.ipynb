{
  "nbformat": 4,
  "nbformat_minor": 0,
  "metadata": {
    "colab": {
      "name": "Perceptron.ipynb",
      "provenance": []
    },
    "kernelspec": {
      "name": "python3",
      "display_name": "Python 3"
    },
    "language_info": {
      "name": "python"
    }
  },
  "cells": [
    {
      "cell_type": "code",
      "execution_count": null,
      "metadata": {
        "id": "ALeOP7CVLaPg"
      },
      "outputs": [],
      "source": [
        "import pandas as pd\n",
        "import numpy as np\n",
        "import matplotlib.pyplot as plt\n",
        "from sklearn.preprocessing import StandardScaler, MinMaxScaler\n",
        "from keras.models import Sequential\n",
        "from keras.layers.core import Dense"
      ]
    },
    {
      "cell_type": "code",
      "source": [
        "link = 'https://raw.githubusercontent.com/OrlandoBelli/OBH/master/time%20series.txt'"
      ],
      "metadata": {
        "id": "B54T8svaMad8"
      },
      "execution_count": null,
      "outputs": []
    },
    {
      "cell_type": "code",
      "source": [
        "df = pd.read_csv(link)\n",
        "df = pd.read_csv(link, sep = ',', parse_dates = [0], header = None, index_col = 0, names = ['fecha','unidades'])"
      ],
      "metadata": {
        "id": "Z2GcxuaZMdBl"
      },
      "execution_count": null,
      "outputs": []
    },
    {
      "cell_type": "code",
      "source": [
        "melt = df.copy()"
      ],
      "metadata": {
        "id": "Q4tMunyGMhbF"
      },
      "execution_count": null,
      "outputs": []
    },
    {
      "cell_type": "code",
      "source": [
        "# ------------------------------------\n",
        "# ESCALAMIENTO DE LA TABLA MELT\n",
        "# ------------------------------------\n",
        "\n",
        "escalar = MinMaxScaler()\n",
        "\n",
        "melt = pd.DataFrame(escalar.fit_transform(melt))\n",
        "print(melt)\n",
        "\n",
        "melt.columns = ['unidades']\n",
        "\n",
        "print(melt)\n",
        "# ------------------------------------\n",
        "# GENERAMOS PREDICTORES\n",
        "# ------------------------------------\n",
        "\n",
        "valoresFuturos = ['vf','vf2','vf3','vf4','vf5','vf6','vf7']\n",
        "\n",
        "for i in range(0,len(valoresFuturos)):\n",
        "  melt[valoresFuturos[i]] = melt['unidades'].shift(-(i+1))\n",
        "\n",
        "#ELIMINAR VALORES PERDIDOS PORQUE NO UTILIZARÉ\n",
        "melt = melt.dropna()\n",
        "# ------------------------------------\n",
        "# PARTICIÓN DE LA DATA DE ENTRENAMIENTO CON DATA PARA VALIDAR\n",
        "# ------------------------------------\n",
        "\n",
        "# ELIJO LOS ULTIMOS 30 DIAS PARA VALIDAR\n",
        "sp = len(melt) - 30\n",
        "sp\n",
        "\n",
        "dataDeEntrenamiento = melt.iloc[:sp,:]\n",
        "dataValida = melt.iloc[sp:,:].dropna()\n",
        "\n",
        "caracteristicas = melt.columns[:-1]\n",
        "objetivo = melt.columns[-1]\n",
        "\n",
        "# ------------------------------------\n",
        "# MATRIZ DE CARACTERISTICAS EN CADA CONJUNTO DE DATOS\n",
        "# ------------------------------------\n",
        "\n",
        "x = melt[caracteristicas]\n",
        "\n",
        "x_train = dataDeEntrenamiento[caracteristicas]\n",
        "y_train = dataDeEntrenamiento[objetivo].values.reshape(-1,1)\n",
        "\n",
        "x_test = dataValida[caracteristicas]\n",
        "y_test = dataValida[objetivo].values.reshape(-1,1)"
      ],
      "metadata": {
        "id": "WlSVDWKLMi1d",
        "colab": {
          "base_uri": "https://localhost:8080/"
        },
        "outputId": "c61c5015-8929-4975-abdf-19861042279c"
      },
      "execution_count": null,
      "outputs": [
        {
          "output_type": "stream",
          "name": "stdout",
          "text": [
            "            0\n",
            "0    0.342593\n",
            "1    0.344444\n",
            "2    0.442593\n",
            "3    0.314815\n",
            "4    0.142593\n",
            "..        ...\n",
            "599  0.416667\n",
            "600  0.312963\n",
            "601  0.244444\n",
            "602  0.370370\n",
            "603  0.255556\n",
            "\n",
            "[604 rows x 1 columns]\n",
            "     unidades\n",
            "0    0.342593\n",
            "1    0.344444\n",
            "2    0.442593\n",
            "3    0.314815\n",
            "4    0.142593\n",
            "..        ...\n",
            "599  0.416667\n",
            "600  0.312963\n",
            "601  0.244444\n",
            "602  0.370370\n",
            "603  0.255556\n",
            "\n",
            "[604 rows x 1 columns]\n",
            "     unidades        vf       vf2       vf3       vf4       vf5       vf6  \\\n",
            "0    0.342593  0.344444  0.442593  0.314815  0.142593  0.448148  0.387037   \n",
            "1    0.344444  0.442593  0.314815  0.142593  0.448148  0.387037  0.283333   \n",
            "2    0.442593  0.314815  0.142593  0.448148  0.387037  0.283333  0.196296   \n",
            "3    0.314815  0.142593  0.448148  0.387037  0.283333  0.196296  0.238889   \n",
            "4    0.142593  0.448148  0.387037  0.283333  0.196296  0.238889  0.177778   \n",
            "..        ...       ...       ...       ...       ...       ...       ...   \n",
            "592  0.288889  0.287037  0.244444  0.275926  0.251852  0.255556  0.046296   \n",
            "593  0.287037  0.244444  0.275926  0.251852  0.255556  0.046296  0.416667   \n",
            "594  0.244444  0.275926  0.251852  0.255556  0.046296  0.416667  0.312963   \n",
            "595  0.275926  0.251852  0.255556  0.046296  0.416667  0.312963  0.244444   \n",
            "596  0.251852  0.255556  0.046296  0.416667  0.312963  0.244444  0.370370   \n",
            "\n",
            "          vf7  \n",
            "0    0.283333  \n",
            "1    0.196296  \n",
            "2    0.238889  \n",
            "3    0.177778  \n",
            "4    0.327778  \n",
            "..        ...  \n",
            "592  0.416667  \n",
            "593  0.312963  \n",
            "594  0.244444  \n",
            "595  0.370370  \n",
            "596  0.255556  \n",
            "\n",
            "[597 rows x 8 columns]\n"
          ]
        }
      ]
    },
    {
      "cell_type": "markdown",
      "source": [
        "CREANDO MODELO DE REDES NEURONALES PERCEPTRON"
      ],
      "metadata": {
        "id": "nToQp9q5NxED"
      }
    },
    {
      "cell_type": "code",
      "source": [
        "# ------------------------------------\n",
        "# CREANDO MODELO TIPO PERCEPTRÓN\n",
        "# ------------------------------------\n",
        "modelo = Sequential()\n",
        "\n",
        "input_dim = len(caracteristicas)\n",
        "output_dim = 1\n",
        "\n",
        "# CAPA DE ENTRADA\n",
        "modelo.add(Dense(40,input_dim = input_dim, activation = 'tanh'))\n",
        "\n",
        "# CAPA OCULTA\n",
        "modelo.add(Dense(units = 100, kernel_initializer='uniform', activation = 'relu'))\n",
        "\n",
        "# CAPA DE SALIDA\n",
        "modelo.add(Dense(units = 1, kernel_initializer='uniform',activation = 'sigmoid'))\n",
        "\n",
        "# GRADIENTE DESCENDIENTE\n",
        "modelo.compile(loss = 'mean_absolute_error', optimizer = 'Adam', metrics=['mse'])\n",
        "\n",
        "# ENTRENAMIENTO\n",
        "history = modelo.fit(x_train,y_train,epochs = 50,validation_data=(x_test,y_test), batch_size = len(caracteristicas))"
      ],
      "metadata": {
        "colab": {
          "base_uri": "https://localhost:8080/"
        },
        "id": "_YiekLemNvMu",
        "outputId": "09374dc0-0bdb-43c2-ae97-dfde5c2b539a"
      },
      "execution_count": null,
      "outputs": [
        {
          "output_type": "stream",
          "name": "stdout",
          "text": [
            "Epoch 1/50\n",
            "81/81 [==============================] - 2s 9ms/step - loss: 0.1403 - mse: 0.0318 - val_loss: 0.0927 - val_mse: 0.0150\n",
            "Epoch 2/50\n",
            "81/81 [==============================] - 0s 5ms/step - loss: 0.1171 - mse: 0.0238 - val_loss: 0.0897 - val_mse: 0.0141\n",
            "Epoch 3/50\n",
            "81/81 [==============================] - 0s 5ms/step - loss: 0.1136 - mse: 0.0229 - val_loss: 0.0962 - val_mse: 0.0155\n",
            "Epoch 4/50\n",
            "81/81 [==============================] - 0s 5ms/step - loss: 0.1104 - mse: 0.0217 - val_loss: 0.0777 - val_mse: 0.0109\n",
            "Epoch 5/50\n",
            "81/81 [==============================] - 0s 5ms/step - loss: 0.1051 - mse: 0.0198 - val_loss: 0.0798 - val_mse: 0.0113\n",
            "Epoch 6/50\n",
            "81/81 [==============================] - 1s 7ms/step - loss: 0.0987 - mse: 0.0179 - val_loss: 0.0754 - val_mse: 0.0103\n",
            "Epoch 7/50\n",
            "81/81 [==============================] - 0s 5ms/step - loss: 0.0927 - mse: 0.0161 - val_loss: 0.0688 - val_mse: 0.0087\n",
            "Epoch 8/50\n",
            "81/81 [==============================] - 0s 5ms/step - loss: 0.0861 - mse: 0.0147 - val_loss: 0.0750 - val_mse: 0.0100\n",
            "Epoch 9/50\n",
            "81/81 [==============================] - 0s 5ms/step - loss: 0.0862 - mse: 0.0143 - val_loss: 0.0698 - val_mse: 0.0086\n",
            "Epoch 10/50\n",
            "81/81 [==============================] - 0s 6ms/step - loss: 0.0850 - mse: 0.0141 - val_loss: 0.0719 - val_mse: 0.0092\n",
            "Epoch 11/50\n",
            "81/81 [==============================] - 0s 5ms/step - loss: 0.0859 - mse: 0.0144 - val_loss: 0.0713 - val_mse: 0.0087\n",
            "Epoch 12/50\n",
            "81/81 [==============================] - 0s 4ms/step - loss: 0.0856 - mse: 0.0142 - val_loss: 0.0710 - val_mse: 0.0089\n",
            "Epoch 13/50\n",
            "81/81 [==============================] - 1s 6ms/step - loss: 0.0848 - mse: 0.0140 - val_loss: 0.0728 - val_mse: 0.0089\n",
            "Epoch 14/50\n",
            "81/81 [==============================] - 0s 4ms/step - loss: 0.0844 - mse: 0.0139 - val_loss: 0.0726 - val_mse: 0.0093\n",
            "Epoch 15/50\n",
            "81/81 [==============================] - 0s 5ms/step - loss: 0.0845 - mse: 0.0139 - val_loss: 0.0711 - val_mse: 0.0089\n",
            "Epoch 16/50\n",
            "81/81 [==============================] - 0s 5ms/step - loss: 0.0841 - mse: 0.0137 - val_loss: 0.0736 - val_mse: 0.0096\n",
            "Epoch 17/50\n",
            "81/81 [==============================] - 0s 5ms/step - loss: 0.0839 - mse: 0.0138 - val_loss: 0.0733 - val_mse: 0.0094\n",
            "Epoch 18/50\n",
            "81/81 [==============================] - 0s 5ms/step - loss: 0.0846 - mse: 0.0139 - val_loss: 0.0715 - val_mse: 0.0090\n",
            "Epoch 19/50\n",
            "81/81 [==============================] - 0s 5ms/step - loss: 0.0841 - mse: 0.0138 - val_loss: 0.0745 - val_mse: 0.0092\n",
            "Epoch 20/50\n",
            "81/81 [==============================] - 0s 5ms/step - loss: 0.0854 - mse: 0.0140 - val_loss: 0.0720 - val_mse: 0.0090\n",
            "Epoch 21/50\n",
            "81/81 [==============================] - 0s 6ms/step - loss: 0.0847 - mse: 0.0137 - val_loss: 0.0720 - val_mse: 0.0091\n",
            "Epoch 22/50\n",
            "81/81 [==============================] - 0s 6ms/step - loss: 0.0842 - mse: 0.0136 - val_loss: 0.0732 - val_mse: 0.0091\n",
            "Epoch 23/50\n",
            "81/81 [==============================] - 0s 5ms/step - loss: 0.0850 - mse: 0.0136 - val_loss: 0.0720 - val_mse: 0.0090\n",
            "Epoch 24/50\n",
            "81/81 [==============================] - 1s 6ms/step - loss: 0.0848 - mse: 0.0139 - val_loss: 0.0722 - val_mse: 0.0092\n",
            "Epoch 25/50\n",
            "81/81 [==============================] - 0s 4ms/step - loss: 0.0845 - mse: 0.0137 - val_loss: 0.0716 - val_mse: 0.0091\n",
            "Epoch 26/50\n",
            "81/81 [==============================] - 0s 5ms/step - loss: 0.0843 - mse: 0.0137 - val_loss: 0.0740 - val_mse: 0.0090\n",
            "Epoch 27/50\n",
            "81/81 [==============================] - 0s 6ms/step - loss: 0.0854 - mse: 0.0138 - val_loss: 0.0713 - val_mse: 0.0090\n",
            "Epoch 28/50\n",
            "81/81 [==============================] - 1s 7ms/step - loss: 0.0840 - mse: 0.0136 - val_loss: 0.0738 - val_mse: 0.0090\n",
            "Epoch 29/50\n",
            "81/81 [==============================] - 1s 7ms/step - loss: 0.0851 - mse: 0.0141 - val_loss: 0.0718 - val_mse: 0.0092\n",
            "Epoch 30/50\n",
            "81/81 [==============================] - 1s 8ms/step - loss: 0.0840 - mse: 0.0138 - val_loss: 0.0721 - val_mse: 0.0093\n",
            "Epoch 31/50\n",
            "81/81 [==============================] - 1s 8ms/step - loss: 0.0838 - mse: 0.0136 - val_loss: 0.0718 - val_mse: 0.0089\n",
            "Epoch 32/50\n",
            "81/81 [==============================] - 0s 5ms/step - loss: 0.0837 - mse: 0.0135 - val_loss: 0.0718 - val_mse: 0.0090\n",
            "Epoch 33/50\n",
            "81/81 [==============================] - 0s 6ms/step - loss: 0.0840 - mse: 0.0135 - val_loss: 0.0716 - val_mse: 0.0090\n",
            "Epoch 34/50\n",
            "81/81 [==============================] - 0s 6ms/step - loss: 0.0837 - mse: 0.0138 - val_loss: 0.0723 - val_mse: 0.0092\n",
            "Epoch 35/50\n",
            "81/81 [==============================] - 0s 6ms/step - loss: 0.0826 - mse: 0.0134 - val_loss: 0.0735 - val_mse: 0.0097\n",
            "Epoch 36/50\n",
            "81/81 [==============================] - 1s 7ms/step - loss: 0.0824 - mse: 0.0135 - val_loss: 0.0723 - val_mse: 0.0091\n",
            "Epoch 37/50\n",
            "81/81 [==============================] - 1s 7ms/step - loss: 0.0821 - mse: 0.0131 - val_loss: 0.0721 - val_mse: 0.0092\n",
            "Epoch 38/50\n",
            "81/81 [==============================] - 0s 5ms/step - loss: 0.0827 - mse: 0.0133 - val_loss: 0.0762 - val_mse: 0.0106\n",
            "Epoch 39/50\n",
            "81/81 [==============================] - 0s 4ms/step - loss: 0.0824 - mse: 0.0133 - val_loss: 0.0717 - val_mse: 0.0090\n",
            "Epoch 40/50\n",
            "81/81 [==============================] - 0s 6ms/step - loss: 0.0808 - mse: 0.0130 - val_loss: 0.0745 - val_mse: 0.0093\n",
            "Epoch 41/50\n",
            "81/81 [==============================] - 1s 6ms/step - loss: 0.0819 - mse: 0.0130 - val_loss: 0.0718 - val_mse: 0.0089\n",
            "Epoch 42/50\n",
            "81/81 [==============================] - 0s 4ms/step - loss: 0.0805 - mse: 0.0127 - val_loss: 0.0713 - val_mse: 0.0091\n",
            "Epoch 43/50\n",
            "81/81 [==============================] - 0s 5ms/step - loss: 0.0805 - mse: 0.0126 - val_loss: 0.0722 - val_mse: 0.0088\n",
            "Epoch 44/50\n",
            "81/81 [==============================] - 0s 4ms/step - loss: 0.0806 - mse: 0.0126 - val_loss: 0.0712 - val_mse: 0.0089\n",
            "Epoch 45/50\n",
            "81/81 [==============================] - 0s 4ms/step - loss: 0.0806 - mse: 0.0125 - val_loss: 0.0733 - val_mse: 0.0091\n",
            "Epoch 46/50\n",
            "81/81 [==============================] - 0s 6ms/step - loss: 0.0802 - mse: 0.0124 - val_loss: 0.0740 - val_mse: 0.0093\n",
            "Epoch 47/50\n",
            "81/81 [==============================] - 0s 5ms/step - loss: 0.0796 - mse: 0.0122 - val_loss: 0.0719 - val_mse: 0.0092\n",
            "Epoch 48/50\n",
            "81/81 [==============================] - 0s 5ms/step - loss: 0.0799 - mse: 0.0124 - val_loss: 0.0755 - val_mse: 0.0095\n",
            "Epoch 49/50\n",
            "81/81 [==============================] - 1s 10ms/step - loss: 0.0794 - mse: 0.0123 - val_loss: 0.0723 - val_mse: 0.0095\n",
            "Epoch 50/50\n",
            "81/81 [==============================] - 1s 8ms/step - loss: 0.0797 - mse: 0.0123 - val_loss: 0.0711 - val_mse: 0.0092\n"
          ]
        }
      ]
    },
    {
      "cell_type": "code",
      "source": [
        "# MIRAMOS LA EVOLUCION DEL ERROR CON EL ECM\n",
        "plt.plot(history.history['loss'], color = 'r', label = 'train')\n",
        "plt.plot(history.history['val_loss'],label = 'test')\n",
        "plt.xlabel('epoch')\n",
        "plt.ylabel('ECM')\n",
        "plt.title('ECM vs. epoch')\n",
        "plt.legend()"
      ],
      "metadata": {
        "colab": {
          "base_uri": "https://localhost:8080/",
          "height": 312
        },
        "id": "KLSi1O6-OEiO",
        "outputId": "4645cfa7-8544-4c8d-b2c1-cf07358b4367"
      },
      "execution_count": null,
      "outputs": [
        {
          "output_type": "execute_result",
          "data": {
            "text/plain": [
              "<matplotlib.legend.Legend at 0x7fec075e6e50>"
            ]
          },
          "metadata": {},
          "execution_count": 7
        },
        {
          "output_type": "display_data",
          "data": {
            "text/plain": [
              "<Figure size 432x288 with 1 Axes>"
            ],
            "image/png": "[encoded data removed]"
          },
          "metadata": {
            "needs_background": "light"
          }
        }
      ]
    },
    {
      "cell_type": "code",
      "source": [
        "#HACEMOS UN MODELO (CON PERCEPTRON) VS DATA REAL TEST\n",
        "\n",
        "results = modelo.predict(x_test)\n",
        "plt.plot(range(len(y_test)), y_test,c='g',label = 'real')\n",
        "plt.plot(range(len(results)), results,c='r',label = 'modelo')\n",
        "plt.title('validate')\n",
        "plt.legend(loc = 'best')\n",
        "plt.show()"
      ],
      "metadata": {
        "colab": {
          "base_uri": "https://localhost:8080/",
          "height": 281
        },
        "id": "zOoaVxboOWaX",
        "outputId": "493407ec-cac6-4cd2-a198-ed99c8d46ce7"
      },
      "execution_count": null,
      "outputs": [
        {
          "output_type": "display_data",
          "data": {
            "text/plain": [
              "<Figure size 432x288 with 1 Axes>"
            ],
            "image/png": "[encoded data removed]"
          },
          "metadata": {
            "needs_background": "light"
          }
        }
      ]
    },
    {
      "cell_type": "markdown",
      "source": [
        "PRONOSTICO (TENEMOS SOLO EL VALOR FUTURO)"
      ],
      "metadata": {
        "id": "HnlF3fyx-byv"
      }
    },
    {
      "cell_type": "code",
      "source": [
        "# DATOS BASE PARA EL MODELO\n",
        "ultimos16dias = df[-15:]\n",
        "\n",
        "# ESCALAMIENTO\n",
        "ultimos16dias = pd.DataFrame(escalar.fit_transform(ultimos16dias))\n",
        "ultimos16dias.columns = ['unidades']\n",
        "\n",
        "# VALORES FUTUROS PARA LOS ULTIMOS 16 DIAS\n",
        "for i in range(0,len(valoresFuturos)):\n",
        "  ultimos16dias[valoresFuturos[i]] = ultimos16dias['unidades'].shift(-(i+1))\n",
        "\n",
        "# ELIMINAMOS VALORES NA\n",
        "ultimos16dias = ultimos16dias.dropna()\n",
        "\n",
        "# QUITAMOS LA ULTIMA COLUMNA VF7(TARGET) PORQUE LA VAMOS A PREDECIR\n",
        "ld_train = ultimos16dias.iloc[:,:-1]\n",
        "\n",
        "# SELECCIONAMOS LA ULTIMA FILA\n",
        "x_test = ld_train.iloc[-1,:].values\n",
        "\n",
        "# LO CONVERTIMOS EN UNA MATRIZ DE 1x7\n",
        "x_test = x_test.reshape([1,x_test.shape[0]])\n",
        "\n",
        "# CREAMOS FUNCION PARA PREDECIR n DIAS CON LA MATRIZ x_test\n",
        "# Y GUARDAR EN UNA SECUENCIA RES SUS VALORES DE PREDICCION \n",
        "\n",
        "res = []\n",
        "def Predecir(n_dias, x_test): # VOID\n",
        "  prediccion = modelo.predict(x_test)[0]\n",
        "\n",
        "  if (n_dias != 0):  \n",
        "    # GUARDA PREDICCIÓN EN RES\n",
        "    res.append(prediccion)\n",
        "\n",
        "    # ROTA EN -1 LA MATRIZ x_test\n",
        "    x_test = np.roll(x_test,-1)\n",
        "\n",
        "    # ULTIMO ELEMENTO DE x_test AHORA ES LA PREDICCION\n",
        "    x_test[0][-1] = prediccion[0] \n",
        "\n",
        "    # HAGO LO MISMO CON LOS DIAS QUE FALTAN PREDECIR  \n",
        "    Predecir(n_dias - 1, x_test)\n",
        "\n",
        "# PREDECIMOS 7 DIAS\n",
        "Predecir(7,x_test)\n",
        "\n",
        "# INVERTIMOS EL ESCALAMIENTO PARA OBTENER LOS VALORES ORIGINALES\n",
        "valoresOriginales = escalar.inverse_transform(res)\n",
        "\n",
        "# LO CONVIERTO EN DATA FRAME PARA HACER EL PLOTEO DEL PRONOSTICO\n",
        "prediccion1semanadediciembre = pd.DataFrame(valoresOriginales)\n",
        "prediccion1semanadediciembre.columns = ['pronostico']\n",
        "\n",
        "# CONCATENO CON LOS ULTIMOS 15 DIAS\n",
        "total = pd.concat([df[-15:], prediccion1semanadediciembre], axis = 0)\n",
        "\n",
        "# PLOTEO\n",
        "plt.plot(np.linspace(0,len(total),len(total)), total.unidades, label = 'real')\n",
        "plt.plot(np.linspace(0,len(total), len(total)), total.pronostico, label = 'pronostico')\n",
        "plt.legend(loc = 'best')"
      ],
      "metadata": {
        "id": "iz1YGxPBOeCi",
        "colab": {
          "base_uri": "https://localhost:8080/",
          "height": 282
        },
        "outputId": "ac10ed3e-f02c-4da6-ee39-9253c4e78c6f"
      },
      "execution_count": null,
      "outputs": [
        {
          "output_type": "execute_result",
          "data": {
            "text/plain": [
              "<matplotlib.legend.Legend at 0x7fec0b6e1610>"
            ]
          },
          "metadata": {},
          "execution_count": 9
        },
        {
          "output_type": "display_data",
          "data": {
            "text/plain": [
              "<Figure size 432x288 with 1 Axes>"
            ],
            "image/png": "[encoded data removed]"
          },
          "metadata": {
            "needs_background": "light"
          }
        }
      ]
    },
    {
      "cell_type": "code",
      "source": [
        ""
      ],
      "metadata": {
        "id": "OJZ5kvj7AHfR"
      },
      "execution_count": null,
      "outputs": []
    }
  ]
}